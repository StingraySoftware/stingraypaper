{
 "cells": [
  {
   "cell_type": "markdown",
   "metadata": {},
   "source": [
    "# Simulate Data for Paper\n",
    "\n",
    "We'd like to simulate some data for the paper, based on the `simulator` in Stingray, so let's do that!"
   ]
  },
  {
   "cell_type": "code",
   "execution_count": 1,
   "metadata": {},
   "outputs": [
    {
     "name": "stderr",
     "output_type": "stream",
     "text": [
      "/Users/danielahuppenkothen/work/repositories/stingraysoftware/stingray/stingray/utils.py:18: UserWarning: Numba not installed. Faking it\n",
      "  warnings.warn(\"Numba not installed. Faking it\")\n"
     ]
    }
   ],
   "source": [
    "%matplotlib notebook\n",
    "from stingray import Lightcurve, sampledata\n",
    "\n",
    "import numpy as np\n",
    "from scipy import signal\n",
    "from matplotlib import pyplot as plt\n",
    "try: \n",
    "    import seaborn as sns\n",
    "    sns.set_style(\"whitegrid\")\n",
    "    sns.set_context(\"talk\")\n",
    "    sns.set_palette(\"colorblind\")\n",
    "except ImportError:\n",
    "    print(\"Seaborn not installed. Oh well.\")\n",
    "\n",
    "\n",
    "data_colour = \"black\"\n",
    "model_colour = \"red\""
   ]
  },
  {
   "cell_type": "markdown",
   "metadata": {},
   "source": [
    "## Simulate a Simple Power spectrum\n",
    "\n",
    "We are going to simulate a power spectrum with a simple power law and a broad QPO at higher frequencies."
   ]
  },
  {
   "cell_type": "code",
   "execution_count": 28,
   "metadata": {
    "collapsed": true
   },
   "outputs": [],
   "source": [
    "from astropy.modeling import models"
   ]
  },
  {
   "cell_type": "code",
   "execution_count": 29,
   "metadata": {},
   "outputs": [],
   "source": [
    "m = models.PowerLaw1D() + models.Lorentz1D()"
   ]
  },
  {
   "cell_type": "markdown",
   "metadata": {},
   "source": [
    "Let's set the parameters:"
   ]
  },
  {
   "cell_type": "code",
   "execution_count": 30,
   "metadata": {
    "collapsed": true
   },
   "outputs": [],
   "source": [
    "m.x_0_0.fixed = True"
   ]
  },
  {
   "cell_type": "code",
   "execution_count": 31,
   "metadata": {},
   "outputs": [],
   "source": [
    "m.amplitude_0 = 0.1\n",
    "m.alpha_0 = 1.0\n",
    "m.amplitude_1 = 1.0\n",
    "m.x_0_1 = 2.0\n",
    "m.fwhm_1 = 1.0\n"
   ]
  },
  {
   "cell_type": "code",
   "execution_count": 32,
   "metadata": {},
   "outputs": [
    {
     "data": {
      "text/plain": [
       "array([ 0.1,  1. ,  1. ,  1. ,  2. ,  1. ])"
      ]
     },
     "execution_count": 32,
     "metadata": {},
     "output_type": "execute_result"
    }
   ],
   "source": [
    "m.parameters"
   ]
  },
  {
   "cell_type": "code",
   "execution_count": 33,
   "metadata": {
    "collapsed": true
   },
   "outputs": [],
   "source": [
    "tseg = 256*60"
   ]
  },
  {
   "cell_type": "code",
   "execution_count": 34,
   "metadata": {},
   "outputs": [],
   "source": [
    "freq = np.linspace(1.0/tseg, 10.0, 10*tseg)"
   ]
  },
  {
   "cell_type": "code",
   "execution_count": 35,
   "metadata": {
    "collapsed": true
   },
   "outputs": [],
   "source": [
    "spec = m(freq)"
   ]
  },
  {
   "cell_type": "code",
   "execution_count": 36,
   "metadata": {},
   "outputs": [
    {
     "data": {
      "application/javascript": [
       "/* Put everything inside the global mpl namespace */\n",
       "window.mpl = {};\n",
       "\n",
       "\n",
       "mpl.get_websocket_type = function() {\n",
       "    if (typeof(WebSocket) !== 'undefined') {\n",
       "        return WebSocket;\n",
       "    } else if (typeof(MozWebSocket) !== 'undefined') {\n",
       "        return MozWebSocket;\n",
       "    } else {\n",
       "        alert('Your browser does not have WebSocket support.' +\n",
       "              'Please try Chrome, Safari or Firefox ≥ 6. ' +\n",
       "              'Firefox 4 and 5 are also supported but you ' +\n",
       "              'have to enable WebSockets in about:config.');\n",
       "    };\n",
       "}\n",
       "\n",
       "mpl.figure = function(figure_id, websocket, ondownload, parent_element) {\n",
       "    this.id = figure_id;\n",
       "\n",
       "    this.ws = websocket;\n",
       "\n",
       "    this.supports_binary = (this.ws.binaryType != undefined);\n",
       "\n",
       "    if (!this.supports_binary) {\n",
       "        var warnings = document.getElementById(\"mpl-warnings\");\n",
       "        if (warnings) {\n",
       "            warnings.style.display = 'block';\n",
       "            warnings.textContent = (\n",
       "                \"This browser does not support binary websocket messages. \" +\n",
       "                    \"Performance may be slow.\");\n",
       "        }\n",
       "    }\n",
       "\n",
       "    this.imageObj = new Image();\n",
       "\n",
       "    this.context = undefined;\n",
       "    this.message = undefined;\n",
       "    this.canvas = undefined;\n",
       "    this.rubberband_canvas = undefined;\n",
       "    this.rubberband_context = undefined;\n",
       "    this.format_dropdown = undefined;\n",
       "\n",
       "    this.image_mode = 'full';\n",
       "\n",
       "    this.root = $('<div/>');\n",
       "    this._root_extra_style(this.root)\n",
       "    this.root.attr('style', 'display: inline-block');\n",
       "\n",
       "    $(parent_element).append(this.root);\n",
       "\n",
       "    this._init_header(this);\n",
       "    this._init_canvas(this);\n",
       "    this._init_toolbar(this);\n",
       "\n",
       "    var fig = this;\n",
       "\n",
       "    this.waiting = false;\n",
       "\n",
       "    this.ws.onopen =  function () {\n",
       "            fig.send_message(\"supports_binary\", {value: fig.supports_binary});\n",
       "            fig.send_message(\"send_image_mode\", {});\n",
       "            if (mpl.ratio != 1) {\n",
       "                fig.send_message(\"set_dpi_ratio\", {'dpi_ratio': mpl.ratio});\n",
       "            }\n",
       "            fig.send_message(\"refresh\", {});\n",
       "        }\n",
       "\n",
       "    this.imageObj.onload = function() {\n",
       "            if (fig.image_mode == 'full') {\n",
       "                // Full images could contain transparency (where diff images\n",
       "                // almost always do), so we need to clear the canvas so that\n",
       "                // there is no ghosting.\n",
       "                fig.context.clearRect(0, 0, fig.canvas.width, fig.canvas.height);\n",
       "            }\n",
       "            fig.context.drawImage(fig.imageObj, 0, 0);\n",
       "        };\n",
       "\n",
       "    this.imageObj.onunload = function() {\n",
       "        this.ws.close();\n",
       "    }\n",
       "\n",
       "    this.ws.onmessage = this._make_on_message_function(this);\n",
       "\n",
       "    this.ondownload = ondownload;\n",
       "}\n",
       "\n",
       "mpl.figure.prototype._init_header = function() {\n",
       "    var titlebar = $(\n",
       "        '<div class=\"ui-dialog-titlebar ui-widget-header ui-corner-all ' +\n",
       "        'ui-helper-clearfix\"/>');\n",
       "    var titletext = $(\n",
       "        '<div class=\"ui-dialog-title\" style=\"width: 100%; ' +\n",
       "        'text-align: center; padding: 3px;\"/>');\n",
       "    titlebar.append(titletext)\n",
       "    this.root.append(titlebar);\n",
       "    this.header = titletext[0];\n",
       "}\n",
       "\n",
       "\n",
       "\n",
       "mpl.figure.prototype._canvas_extra_style = function(canvas_div) {\n",
       "\n",
       "}\n",
       "\n",
       "\n",
       "mpl.figure.prototype._root_extra_style = function(canvas_div) {\n",
       "\n",
       "}\n",
       "\n",
       "mpl.figure.prototype._init_canvas = function() {\n",
       "    var fig = this;\n",
       "\n",
       "    var canvas_div = $('<div/>');\n",
       "\n",
       "    canvas_div.attr('style', 'position: relative; clear: both; outline: 0');\n",
       "\n",
       "    function canvas_keyboard_event(event) {\n",
       "        return fig.key_event(event, event['data']);\n",
       "    }\n",
       "\n",
       "    canvas_div.keydown('key_press', canvas_keyboard_event);\n",
       "    canvas_div.keyup('key_release', canvas_keyboard_event);\n",
       "    this.canvas_div = canvas_div\n",
       "    this._canvas_extra_style(canvas_div)\n",
       "    this.root.append(canvas_div);\n",
       "\n",
       "    var canvas = $('<canvas/>');\n",
       "    canvas.addClass('mpl-canvas');\n",
       "    canvas.attr('style', \"left: 0; top: 0; z-index: 0; outline: 0\")\n",
       "\n",
       "    this.canvas = canvas[0];\n",
       "    this.context = canvas[0].getContext(\"2d\");\n",
       "\n",
       "    var backingStore = this.context.backingStorePixelRatio ||\n",
       "\tthis.context.webkitBackingStorePixelRatio ||\n",
       "\tthis.context.mozBackingStorePixelRatio ||\n",
       "\tthis.context.msBackingStorePixelRatio ||\n",
       "\tthis.context.oBackingStorePixelRatio ||\n",
       "\tthis.context.backingStorePixelRatio || 1;\n",
       "\n",
       "    mpl.ratio = (window.devicePixelRatio || 1) / backingStore;\n",
       "\n",
       "    var rubberband = $('<canvas/>');\n",
       "    rubberband.attr('style', \"position: absolute; left: 0; top: 0; z-index: 1;\")\n",
       "\n",
       "    var pass_mouse_events = true;\n",
       "\n",
       "    canvas_div.resizable({\n",
       "        start: function(event, ui) {\n",
       "            pass_mouse_events = false;\n",
       "        },\n",
       "        resize: function(event, ui) {\n",
       "            fig.request_resize(ui.size.width, ui.size.height);\n",
       "        },\n",
       "        stop: function(event, ui) {\n",
       "            pass_mouse_events = true;\n",
       "            fig.request_resize(ui.size.width, ui.size.height);\n",
       "        },\n",
       "    });\n",
       "\n",
       "    function mouse_event_fn(event) {\n",
       "        if (pass_mouse_events)\n",
       "            return fig.mouse_event(event, event['data']);\n",
       "    }\n",
       "\n",
       "    rubberband.mousedown('button_press', mouse_event_fn);\n",
       "    rubberband.mouseup('button_release', mouse_event_fn);\n",
       "    // Throttle sequential mouse events to 1 every 20ms.\n",
       "    rubberband.mousemove('motion_notify', mouse_event_fn);\n",
       "\n",
       "    rubberband.mouseenter('figure_enter', mouse_event_fn);\n",
       "    rubberband.mouseleave('figure_leave', mouse_event_fn);\n",
       "\n",
       "    canvas_div.on(\"wheel\", function (event) {\n",
       "        event = event.originalEvent;\n",
       "        event['data'] = 'scroll'\n",
       "        if (event.deltaY < 0) {\n",
       "            event.step = 1;\n",
       "        } else {\n",
       "            event.step = -1;\n",
       "        }\n",
       "        mouse_event_fn(event);\n",
       "    });\n",
       "\n",
       "    canvas_div.append(canvas);\n",
       "    canvas_div.append(rubberband);\n",
       "\n",
       "    this.rubberband = rubberband;\n",
       "    this.rubberband_canvas = rubberband[0];\n",
       "    this.rubberband_context = rubberband[0].getContext(\"2d\");\n",
       "    this.rubberband_context.strokeStyle = \"#000000\";\n",
       "\n",
       "    this._resize_canvas = function(width, height) {\n",
       "        // Keep the size of the canvas, canvas container, and rubber band\n",
       "        // canvas in synch.\n",
       "        canvas_div.css('width', width)\n",
       "        canvas_div.css('height', height)\n",
       "\n",
       "        canvas.attr('width', width * mpl.ratio);\n",
       "        canvas.attr('height', height * mpl.ratio);\n",
       "        canvas.attr('style', 'width: ' + width + 'px; height: ' + height + 'px;');\n",
       "\n",
       "        rubberband.attr('width', width);\n",
       "        rubberband.attr('height', height);\n",
       "    }\n",
       "\n",
       "    // Set the figure to an initial 600x600px, this will subsequently be updated\n",
       "    // upon first draw.\n",
       "    this._resize_canvas(600, 600);\n",
       "\n",
       "    // Disable right mouse context menu.\n",
       "    $(this.rubberband_canvas).bind(\"contextmenu\",function(e){\n",
       "        return false;\n",
       "    });\n",
       "\n",
       "    function set_focus () {\n",
       "        canvas.focus();\n",
       "        canvas_div.focus();\n",
       "    }\n",
       "\n",
       "    window.setTimeout(set_focus, 100);\n",
       "}\n",
       "\n",
       "mpl.figure.prototype._init_toolbar = function() {\n",
       "    var fig = this;\n",
       "\n",
       "    var nav_element = $('<div/>')\n",
       "    nav_element.attr('style', 'width: 100%');\n",
       "    this.root.append(nav_element);\n",
       "\n",
       "    // Define a callback function for later on.\n",
       "    function toolbar_event(event) {\n",
       "        return fig.toolbar_button_onclick(event['data']);\n",
       "    }\n",
       "    function toolbar_mouse_event(event) {\n",
       "        return fig.toolbar_button_onmouseover(event['data']);\n",
       "    }\n",
       "\n",
       "    for(var toolbar_ind in mpl.toolbar_items) {\n",
       "        var name = mpl.toolbar_items[toolbar_ind][0];\n",
       "        var tooltip = mpl.toolbar_items[toolbar_ind][1];\n",
       "        var image = mpl.toolbar_items[toolbar_ind][2];\n",
       "        var method_name = mpl.toolbar_items[toolbar_ind][3];\n",
       "\n",
       "        if (!name) {\n",
       "            // put a spacer in here.\n",
       "            continue;\n",
       "        }\n",
       "        var button = $('<button/>');\n",
       "        button.addClass('ui-button ui-widget ui-state-default ui-corner-all ' +\n",
       "                        'ui-button-icon-only');\n",
       "        button.attr('role', 'button');\n",
       "        button.attr('aria-disabled', 'false');\n",
       "        button.click(method_name, toolbar_event);\n",
       "        button.mouseover(tooltip, toolbar_mouse_event);\n",
       "\n",
       "        var icon_img = $('<span/>');\n",
       "        icon_img.addClass('ui-button-icon-primary ui-icon');\n",
       "        icon_img.addClass(image);\n",
       "        icon_img.addClass('ui-corner-all');\n",
       "\n",
       "        var tooltip_span = $('<span/>');\n",
       "        tooltip_span.addClass('ui-button-text');\n",
       "        tooltip_span.html(tooltip);\n",
       "\n",
       "        button.append(icon_img);\n",
       "        button.append(tooltip_span);\n",
       "\n",
       "        nav_element.append(button);\n",
       "    }\n",
       "\n",
       "    var fmt_picker_span = $('<span/>');\n",
       "\n",
       "    var fmt_picker = $('<select/>');\n",
       "    fmt_picker.addClass('mpl-toolbar-option ui-widget ui-widget-content');\n",
       "    fmt_picker_span.append(fmt_picker);\n",
       "    nav_element.append(fmt_picker_span);\n",
       "    this.format_dropdown = fmt_picker[0];\n",
       "\n",
       "    for (var ind in mpl.extensions) {\n",
       "        var fmt = mpl.extensions[ind];\n",
       "        var option = $(\n",
       "            '<option/>', {selected: fmt === mpl.default_extension}).html(fmt);\n",
       "        fmt_picker.append(option)\n",
       "    }\n",
       "\n",
       "    // Add hover states to the ui-buttons\n",
       "    $( \".ui-button\" ).hover(\n",
       "        function() { $(this).addClass(\"ui-state-hover\");},\n",
       "        function() { $(this).removeClass(\"ui-state-hover\");}\n",
       "    );\n",
       "\n",
       "    var status_bar = $('<span class=\"mpl-message\"/>');\n",
       "    nav_element.append(status_bar);\n",
       "    this.message = status_bar[0];\n",
       "}\n",
       "\n",
       "mpl.figure.prototype.request_resize = function(x_pixels, y_pixels) {\n",
       "    // Request matplotlib to resize the figure. Matplotlib will then trigger a resize in the client,\n",
       "    // which will in turn request a refresh of the image.\n",
       "    this.send_message('resize', {'width': x_pixels, 'height': y_pixels});\n",
       "}\n",
       "\n",
       "mpl.figure.prototype.send_message = function(type, properties) {\n",
       "    properties['type'] = type;\n",
       "    properties['figure_id'] = this.id;\n",
       "    this.ws.send(JSON.stringify(properties));\n",
       "}\n",
       "\n",
       "mpl.figure.prototype.send_draw_message = function() {\n",
       "    if (!this.waiting) {\n",
       "        this.waiting = true;\n",
       "        this.ws.send(JSON.stringify({type: \"draw\", figure_id: this.id}));\n",
       "    }\n",
       "}\n",
       "\n",
       "\n",
       "mpl.figure.prototype.handle_save = function(fig, msg) {\n",
       "    var format_dropdown = fig.format_dropdown;\n",
       "    var format = format_dropdown.options[format_dropdown.selectedIndex].value;\n",
       "    fig.ondownload(fig, format);\n",
       "}\n",
       "\n",
       "\n",
       "mpl.figure.prototype.handle_resize = function(fig, msg) {\n",
       "    var size = msg['size'];\n",
       "    if (size[0] != fig.canvas.width || size[1] != fig.canvas.height) {\n",
       "        fig._resize_canvas(size[0], size[1]);\n",
       "        fig.send_message(\"refresh\", {});\n",
       "    };\n",
       "}\n",
       "\n",
       "mpl.figure.prototype.handle_rubberband = function(fig, msg) {\n",
       "    var x0 = msg['x0'] / mpl.ratio;\n",
       "    var y0 = (fig.canvas.height - msg['y0']) / mpl.ratio;\n",
       "    var x1 = msg['x1'] / mpl.ratio;\n",
       "    var y1 = (fig.canvas.height - msg['y1']) / mpl.ratio;\n",
       "    x0 = Math.floor(x0) + 0.5;\n",
       "    y0 = Math.floor(y0) + 0.5;\n",
       "    x1 = Math.floor(x1) + 0.5;\n",
       "    y1 = Math.floor(y1) + 0.5;\n",
       "    var min_x = Math.min(x0, x1);\n",
       "    var min_y = Math.min(y0, y1);\n",
       "    var width = Math.abs(x1 - x0);\n",
       "    var height = Math.abs(y1 - y0);\n",
       "\n",
       "    fig.rubberband_context.clearRect(\n",
       "        0, 0, fig.canvas.width, fig.canvas.height);\n",
       "\n",
       "    fig.rubberband_context.strokeRect(min_x, min_y, width, height);\n",
       "}\n",
       "\n",
       "mpl.figure.prototype.handle_figure_label = function(fig, msg) {\n",
       "    // Updates the figure title.\n",
       "    fig.header.textContent = msg['label'];\n",
       "}\n",
       "\n",
       "mpl.figure.prototype.handle_cursor = function(fig, msg) {\n",
       "    var cursor = msg['cursor'];\n",
       "    switch(cursor)\n",
       "    {\n",
       "    case 0:\n",
       "        cursor = 'pointer';\n",
       "        break;\n",
       "    case 1:\n",
       "        cursor = 'default';\n",
       "        break;\n",
       "    case 2:\n",
       "        cursor = 'crosshair';\n",
       "        break;\n",
       "    case 3:\n",
       "        cursor = 'move';\n",
       "        break;\n",
       "    }\n",
       "    fig.rubberband_canvas.style.cursor = cursor;\n",
       "}\n",
       "\n",
       "mpl.figure.prototype.handle_message = function(fig, msg) {\n",
       "    fig.message.textContent = msg['message'];\n",
       "}\n",
       "\n",
       "mpl.figure.prototype.handle_draw = function(fig, msg) {\n",
       "    // Request the server to send over a new figure.\n",
       "    fig.send_draw_message();\n",
       "}\n",
       "\n",
       "mpl.figure.prototype.handle_image_mode = function(fig, msg) {\n",
       "    fig.image_mode = msg['mode'];\n",
       "}\n",
       "\n",
       "mpl.figure.prototype.updated_canvas_event = function() {\n",
       "    // Called whenever the canvas gets updated.\n",
       "    this.send_message(\"ack\", {});\n",
       "}\n",
       "\n",
       "// A function to construct a web socket function for onmessage handling.\n",
       "// Called in the figure constructor.\n",
       "mpl.figure.prototype._make_on_message_function = function(fig) {\n",
       "    return function socket_on_message(evt) {\n",
       "        if (evt.data instanceof Blob) {\n",
       "            /* FIXME: We get \"Resource interpreted as Image but\n",
       "             * transferred with MIME type text/plain:\" errors on\n",
       "             * Chrome.  But how to set the MIME type?  It doesn't seem\n",
       "             * to be part of the websocket stream */\n",
       "            evt.data.type = \"image/png\";\n",
       "\n",
       "            /* Free the memory for the previous frames */\n",
       "            if (fig.imageObj.src) {\n",
       "                (window.URL || window.webkitURL).revokeObjectURL(\n",
       "                    fig.imageObj.src);\n",
       "            }\n",
       "\n",
       "            fig.imageObj.src = (window.URL || window.webkitURL).createObjectURL(\n",
       "                evt.data);\n",
       "            fig.updated_canvas_event();\n",
       "            fig.waiting = false;\n",
       "            return;\n",
       "        }\n",
       "        else if (typeof evt.data === 'string' && evt.data.slice(0, 21) == \"data:image/png;base64\") {\n",
       "            fig.imageObj.src = evt.data;\n",
       "            fig.updated_canvas_event();\n",
       "            fig.waiting = false;\n",
       "            return;\n",
       "        }\n",
       "\n",
       "        var msg = JSON.parse(evt.data);\n",
       "        var msg_type = msg['type'];\n",
       "\n",
       "        // Call the  \"handle_{type}\" callback, which takes\n",
       "        // the figure and JSON message as its only arguments.\n",
       "        try {\n",
       "            var callback = fig[\"handle_\" + msg_type];\n",
       "        } catch (e) {\n",
       "            console.log(\"No handler for the '\" + msg_type + \"' message type: \", msg);\n",
       "            return;\n",
       "        }\n",
       "\n",
       "        if (callback) {\n",
       "            try {\n",
       "                // console.log(\"Handling '\" + msg_type + \"' message: \", msg);\n",
       "                callback(fig, msg);\n",
       "            } catch (e) {\n",
       "                console.log(\"Exception inside the 'handler_\" + msg_type + \"' callback:\", e, e.stack, msg);\n",
       "            }\n",
       "        }\n",
       "    };\n",
       "}\n",
       "\n",
       "// from http://stackoverflow.com/questions/1114465/getting-mouse-location-in-canvas\n",
       "mpl.findpos = function(e) {\n",
       "    //this section is from http://www.quirksmode.org/js/events_properties.html\n",
       "    var targ;\n",
       "    if (!e)\n",
       "        e = window.event;\n",
       "    if (e.target)\n",
       "        targ = e.target;\n",
       "    else if (e.srcElement)\n",
       "        targ = e.srcElement;\n",
       "    if (targ.nodeType == 3) // defeat Safari bug\n",
       "        targ = targ.parentNode;\n",
       "\n",
       "    // jQuery normalizes the pageX and pageY\n",
       "    // pageX,Y are the mouse positions relative to the document\n",
       "    // offset() returns the position of the element relative to the document\n",
       "    var x = e.pageX - $(targ).offset().left;\n",
       "    var y = e.pageY - $(targ).offset().top;\n",
       "\n",
       "    return {\"x\": x, \"y\": y};\n",
       "};\n",
       "\n",
       "/*\n",
       " * return a copy of an object with only non-object keys\n",
       " * we need this to avoid circular references\n",
       " * http://stackoverflow.com/a/24161582/3208463\n",
       " */\n",
       "function simpleKeys (original) {\n",
       "  return Object.keys(original).reduce(function (obj, key) {\n",
       "    if (typeof original[key] !== 'object')\n",
       "        obj[key] = original[key]\n",
       "    return obj;\n",
       "  }, {});\n",
       "}\n",
       "\n",
       "mpl.figure.prototype.mouse_event = function(event, name) {\n",
       "    var canvas_pos = mpl.findpos(event)\n",
       "\n",
       "    if (name === 'button_press')\n",
       "    {\n",
       "        this.canvas.focus();\n",
       "        this.canvas_div.focus();\n",
       "    }\n",
       "\n",
       "    var x = canvas_pos.x * mpl.ratio;\n",
       "    var y = canvas_pos.y * mpl.ratio;\n",
       "\n",
       "    this.send_message(name, {x: x, y: y, button: event.button,\n",
       "                             step: event.step,\n",
       "                             guiEvent: simpleKeys(event)});\n",
       "\n",
       "    /* This prevents the web browser from automatically changing to\n",
       "     * the text insertion cursor when the button is pressed.  We want\n",
       "     * to control all of the cursor setting manually through the\n",
       "     * 'cursor' event from matplotlib */\n",
       "    event.preventDefault();\n",
       "    return false;\n",
       "}\n",
       "\n",
       "mpl.figure.prototype._key_event_extra = function(event, name) {\n",
       "    // Handle any extra behaviour associated with a key event\n",
       "}\n",
       "\n",
       "mpl.figure.prototype.key_event = function(event, name) {\n",
       "\n",
       "    // Prevent repeat events\n",
       "    if (name == 'key_press')\n",
       "    {\n",
       "        if (event.which === this._key)\n",
       "            return;\n",
       "        else\n",
       "            this._key = event.which;\n",
       "    }\n",
       "    if (name == 'key_release')\n",
       "        this._key = null;\n",
       "\n",
       "    var value = '';\n",
       "    if (event.ctrlKey && event.which != 17)\n",
       "        value += \"ctrl+\";\n",
       "    if (event.altKey && event.which != 18)\n",
       "        value += \"alt+\";\n",
       "    if (event.shiftKey && event.which != 16)\n",
       "        value += \"shift+\";\n",
       "\n",
       "    value += 'k';\n",
       "    value += event.which.toString();\n",
       "\n",
       "    this._key_event_extra(event, name);\n",
       "\n",
       "    this.send_message(name, {key: value,\n",
       "                             guiEvent: simpleKeys(event)});\n",
       "    return false;\n",
       "}\n",
       "\n",
       "mpl.figure.prototype.toolbar_button_onclick = function(name) {\n",
       "    if (name == 'download') {\n",
       "        this.handle_save(this, null);\n",
       "    } else {\n",
       "        this.send_message(\"toolbar_button\", {name: name});\n",
       "    }\n",
       "};\n",
       "\n",
       "mpl.figure.prototype.toolbar_button_onmouseover = function(tooltip) {\n",
       "    this.message.textContent = tooltip;\n",
       "};\n",
       "mpl.toolbar_items = [[\"Home\", \"Reset original view\", \"fa fa-home icon-home\", \"home\"], [\"Back\", \"Back to  previous view\", \"fa fa-arrow-left icon-arrow-left\", \"back\"], [\"Forward\", \"Forward to next view\", \"fa fa-arrow-right icon-arrow-right\", \"forward\"], [\"\", \"\", \"\", \"\"], [\"Pan\", \"Pan axes with left mouse, zoom with right\", \"fa fa-arrows icon-move\", \"pan\"], [\"Zoom\", \"Zoom to rectangle\", \"fa fa-square-o icon-check-empty\", \"zoom\"], [\"\", \"\", \"\", \"\"], [\"Download\", \"Download plot\", \"fa fa-floppy-o icon-save\", \"download\"]];\n",
       "\n",
       "mpl.extensions = [\"eps\", \"jpeg\", \"pdf\", \"png\", \"ps\", \"raw\", \"svg\", \"tif\"];\n",
       "\n",
       "mpl.default_extension = \"png\";var comm_websocket_adapter = function(comm) {\n",
       "    // Create a \"websocket\"-like object which calls the given IPython comm\n",
       "    // object with the appropriate methods. Currently this is a non binary\n",
       "    // socket, so there is still some room for performance tuning.\n",
       "    var ws = {};\n",
       "\n",
       "    ws.close = function() {\n",
       "        comm.close()\n",
       "    };\n",
       "    ws.send = function(m) {\n",
       "        //console.log('sending', m);\n",
       "        comm.send(m);\n",
       "    };\n",
       "    // Register the callback with on_msg.\n",
       "    comm.on_msg(function(msg) {\n",
       "        //console.log('receiving', msg['content']['data'], msg);\n",
       "        // Pass the mpl event to the overriden (by mpl) onmessage function.\n",
       "        ws.onmessage(msg['content']['data'])\n",
       "    });\n",
       "    return ws;\n",
       "}\n",
       "\n",
       "mpl.mpl_figure_comm = function(comm, msg) {\n",
       "    // This is the function which gets called when the mpl process\n",
       "    // starts-up an IPython Comm through the \"matplotlib\" channel.\n",
       "\n",
       "    var id = msg.content.data.id;\n",
       "    // Get hold of the div created by the display call when the Comm\n",
       "    // socket was opened in Python.\n",
       "    var element = $(\"#\" + id);\n",
       "    var ws_proxy = comm_websocket_adapter(comm)\n",
       "\n",
       "    function ondownload(figure, format) {\n",
       "        window.open(figure.imageObj.src);\n",
       "    }\n",
       "\n",
       "    var fig = new mpl.figure(id, ws_proxy,\n",
       "                           ondownload,\n",
       "                           element.get(0));\n",
       "\n",
       "    // Call onopen now - mpl needs it, as it is assuming we've passed it a real\n",
       "    // web socket which is closed, not our websocket->open comm proxy.\n",
       "    ws_proxy.onopen();\n",
       "\n",
       "    fig.parent_element = element.get(0);\n",
       "    fig.cell_info = mpl.find_output_cell(\"<div id='\" + id + \"'></div>\");\n",
       "    if (!fig.cell_info) {\n",
       "        console.error(\"Failed to find cell for figure\", id, fig);\n",
       "        return;\n",
       "    }\n",
       "\n",
       "    var output_index = fig.cell_info[2]\n",
       "    var cell = fig.cell_info[0];\n",
       "\n",
       "};\n",
       "\n",
       "mpl.figure.prototype.handle_close = function(fig, msg) {\n",
       "    var width = fig.canvas.width/mpl.ratio\n",
       "    fig.root.unbind('remove')\n",
       "\n",
       "    // Update the output cell to use the data from the current canvas.\n",
       "    fig.push_to_output();\n",
       "    var dataURL = fig.canvas.toDataURL();\n",
       "    // Re-enable the keyboard manager in IPython - without this line, in FF,\n",
       "    // the notebook keyboard shortcuts fail.\n",
       "    IPython.keyboard_manager.enable()\n",
       "    $(fig.parent_element).html('<img src=\"' + dataURL + '\" width=\"' + width + '\">');\n",
       "    fig.close_ws(fig, msg);\n",
       "}\n",
       "\n",
       "mpl.figure.prototype.close_ws = function(fig, msg){\n",
       "    fig.send_message('closing', msg);\n",
       "    // fig.ws.close()\n",
       "}\n",
       "\n",
       "mpl.figure.prototype.push_to_output = function(remove_interactive) {\n",
       "    // Turn the data on the canvas into data in the output cell.\n",
       "    var width = this.canvas.width/mpl.ratio\n",
       "    var dataURL = this.canvas.toDataURL();\n",
       "    this.cell_info[1]['text/html'] = '<img src=\"' + dataURL + '\" width=\"' + width + '\">';\n",
       "}\n",
       "\n",
       "mpl.figure.prototype.updated_canvas_event = function() {\n",
       "    // Tell IPython that the notebook contents must change.\n",
       "    IPython.notebook.set_dirty(true);\n",
       "    this.send_message(\"ack\", {});\n",
       "    var fig = this;\n",
       "    // Wait a second, then push the new image to the DOM so\n",
       "    // that it is saved nicely (might be nice to debounce this).\n",
       "    setTimeout(function () { fig.push_to_output() }, 1000);\n",
       "}\n",
       "\n",
       "mpl.figure.prototype._init_toolbar = function() {\n",
       "    var fig = this;\n",
       "\n",
       "    var nav_element = $('<div/>')\n",
       "    nav_element.attr('style', 'width: 100%');\n",
       "    this.root.append(nav_element);\n",
       "\n",
       "    // Define a callback function for later on.\n",
       "    function toolbar_event(event) {\n",
       "        return fig.toolbar_button_onclick(event['data']);\n",
       "    }\n",
       "    function toolbar_mouse_event(event) {\n",
       "        return fig.toolbar_button_onmouseover(event['data']);\n",
       "    }\n",
       "\n",
       "    for(var toolbar_ind in mpl.toolbar_items){\n",
       "        var name = mpl.toolbar_items[toolbar_ind][0];\n",
       "        var tooltip = mpl.toolbar_items[toolbar_ind][1];\n",
       "        var image = mpl.toolbar_items[toolbar_ind][2];\n",
       "        var method_name = mpl.toolbar_items[toolbar_ind][3];\n",
       "\n",
       "        if (!name) { continue; };\n",
       "\n",
       "        var button = $('<button class=\"btn btn-default\" href=\"#\" title=\"' + name + '\"><i class=\"fa ' + image + ' fa-lg\"></i></button>');\n",
       "        button.click(method_name, toolbar_event);\n",
       "        button.mouseover(tooltip, toolbar_mouse_event);\n",
       "        nav_element.append(button);\n",
       "    }\n",
       "\n",
       "    // Add the status bar.\n",
       "    var status_bar = $('<span class=\"mpl-message\" style=\"text-align:right; float: right;\"/>');\n",
       "    nav_element.append(status_bar);\n",
       "    this.message = status_bar[0];\n",
       "\n",
       "    // Add the close button to the window.\n",
       "    var buttongrp = $('<div class=\"btn-group inline pull-right\"></div>');\n",
       "    var button = $('<button class=\"btn btn-mini btn-primary\" href=\"#\" title=\"Stop Interaction\"><i class=\"fa fa-power-off icon-remove icon-large\"></i></button>');\n",
       "    button.click(function (evt) { fig.handle_close(fig, {}); } );\n",
       "    button.mouseover('Stop Interaction', toolbar_mouse_event);\n",
       "    buttongrp.append(button);\n",
       "    var titlebar = this.root.find($('.ui-dialog-titlebar'));\n",
       "    titlebar.prepend(buttongrp);\n",
       "}\n",
       "\n",
       "mpl.figure.prototype._root_extra_style = function(el){\n",
       "    var fig = this\n",
       "    el.on(\"remove\", function(){\n",
       "\tfig.close_ws(fig, {});\n",
       "    });\n",
       "}\n",
       "\n",
       "mpl.figure.prototype._canvas_extra_style = function(el){\n",
       "    // this is important to make the div 'focusable\n",
       "    el.attr('tabindex', 0)\n",
       "    // reach out to IPython and tell the keyboard manager to turn it's self\n",
       "    // off when our div gets focus\n",
       "\n",
       "    // location in version 3\n",
       "    if (IPython.notebook.keyboard_manager) {\n",
       "        IPython.notebook.keyboard_manager.register_events(el);\n",
       "    }\n",
       "    else {\n",
       "        // location in version 2\n",
       "        IPython.keyboard_manager.register_events(el);\n",
       "    }\n",
       "\n",
       "}\n",
       "\n",
       "mpl.figure.prototype._key_event_extra = function(event, name) {\n",
       "    var manager = IPython.notebook.keyboard_manager;\n",
       "    if (!manager)\n",
       "        manager = IPython.keyboard_manager;\n",
       "\n",
       "    // Check for shift+enter\n",
       "    if (event.shiftKey && event.which == 13) {\n",
       "        this.canvas_div.blur();\n",
       "        // select the cell after this one\n",
       "        var index = IPython.notebook.find_cell_index(this.cell_info[0]);\n",
       "        IPython.notebook.select(index + 1);\n",
       "    }\n",
       "}\n",
       "\n",
       "mpl.figure.prototype.handle_save = function(fig, msg) {\n",
       "    fig.ondownload(fig, null);\n",
       "}\n",
       "\n",
       "\n",
       "mpl.find_output_cell = function(html_output) {\n",
       "    // Return the cell and output element which can be found *uniquely* in the notebook.\n",
       "    // Note - this is a bit hacky, but it is done because the \"notebook_saving.Notebook\"\n",
       "    // IPython event is triggered only after the cells have been serialised, which for\n",
       "    // our purposes (turning an active figure into a static one), is too late.\n",
       "    var cells = IPython.notebook.get_cells();\n",
       "    var ncells = cells.length;\n",
       "    for (var i=0; i<ncells; i++) {\n",
       "        var cell = cells[i];\n",
       "        if (cell.cell_type === 'code'){\n",
       "            for (var j=0; j<cell.output_area.outputs.length; j++) {\n",
       "                var data = cell.output_area.outputs[j];\n",
       "                if (data.data) {\n",
       "                    // IPython >= 3 moved mimebundle to data attribute of output\n",
       "                    data = data.data;\n",
       "                }\n",
       "                if (data['text/html'] == html_output) {\n",
       "                    return [cell, data, j];\n",
       "                }\n",
       "            }\n",
       "        }\n",
       "    }\n",
       "}\n",
       "\n",
       "// Register the function which deals with the matplotlib target/channel.\n",
       "// The kernel may be null if the page has been refreshed.\n",
       "if (IPython.notebook.kernel != null) {\n",
       "    IPython.notebook.kernel.comm_manager.register_target('matplotlib', mpl.mpl_figure_comm);\n",
       "}\n"
      ],
      "text/plain": [
       "<IPython.core.display.Javascript object>"
      ]
     },
     "metadata": {},
     "output_type": "display_data"
    },
    {
     "data": {
      "text/html": [
       "<img src=\"data:image/png;base64,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\" width=\"600\">"
      ],
      "text/plain": [
       "<IPython.core.display.HTML object>"
      ]
     },
     "metadata": {},
     "output_type": "display_data"
    },
    {
     "data": {
      "text/plain": [
       "[<matplotlib.lines.Line2D at 0x117dc67f0>]"
      ]
     },
     "execution_count": 36,
     "metadata": {},
     "output_type": "execute_result"
    }
   ],
   "source": [
    "fig, ax = plt.subplots(1, 1, figsize=(6, 4))\n",
    "ax.loglog(freq, spec, color=model_colour)"
   ]
  },
  {
   "cell_type": "code",
   "execution_count": 37,
   "metadata": {
    "collapsed": true
   },
   "outputs": [],
   "source": [
    "from stingray.simulator import simulator, models"
   ]
  },
  {
   "cell_type": "code",
   "execution_count": 66,
   "metadata": {},
   "outputs": [],
   "source": [
    "sim = simulator.Simulator(N=20*tseg, mean=20.0, dt=0.5/10.0, rms=0.3, random_state=100)"
   ]
  },
  {
   "cell_type": "code",
   "execution_count": 78,
   "metadata": {},
   "outputs": [
    {
     "data": {
      "text/plain": [
       "400.0"
      ]
     },
     "execution_count": 78,
     "metadata": {},
     "output_type": "execute_result"
    }
   ],
   "source": [
    "20/(0.5/10)"
   ]
  },
  {
   "cell_type": "code",
   "execution_count": 67,
   "metadata": {},
   "outputs": [
    {
     "name": "stderr",
     "output_type": "stream",
     "text": [
      "/Users/danielahuppenkothen/work/repositories/stingraysoftware/stingray/stingray/utils.py:51: UserWarning: SIMON says: Stingray only uses poisson err_dist at the moment, We are setting your errors to zero. Sorry for the inconvenience.\n",
      "  warnings.warn(\"SIMON says: {0}\".format(message), **kwargs)\n"
     ]
    }
   ],
   "source": [
    "lc = sim.simulate(spec)"
   ]
  },
  {
   "cell_type": "code",
   "execution_count": 68,
   "metadata": {},
   "outputs": [
    {
     "data": {
      "text/plain": [
       "0.05"
      ]
     },
     "execution_count": 68,
     "metadata": {},
     "output_type": "execute_result"
    }
   ],
   "source": [
    "lc.dt"
   ]
  },
  {
   "cell_type": "code",
   "execution_count": 69,
   "metadata": {},
   "outputs": [
    {
     "data": {
      "text/plain": [
       "15360.0"
      ]
     },
     "execution_count": 69,
     "metadata": {},
     "output_type": "execute_result"
    }
   ],
   "source": [
    "lc.tseg"
   ]
  },
  {
   "cell_type": "code",
   "execution_count": 70,
   "metadata": {},
   "outputs": [
    {
     "data": {
      "text/plain": [
       "307200"
      ]
     },
     "execution_count": 70,
     "metadata": {},
     "output_type": "execute_result"
    }
   ],
   "source": [
    "lc.n"
   ]
  },
  {
   "cell_type": "code",
   "execution_count": 71,
   "metadata": {
    "collapsed": true
   },
   "outputs": [],
   "source": [
    "counts = np.random.poisson(lc.counts)"
   ]
  },
  {
   "cell_type": "code",
   "execution_count": 72,
   "metadata": {},
   "outputs": [
    {
     "data": {
      "text/plain": [
       "array([22, 10, 15, ..., 15, 15, 17])"
      ]
     },
     "execution_count": 72,
     "metadata": {},
     "output_type": "execute_result"
    }
   ],
   "source": [
    "counts"
   ]
  },
  {
   "cell_type": "code",
   "execution_count": 73,
   "metadata": {
    "collapsed": true
   },
   "outputs": [],
   "source": [
    "lc = Lightcurve(lc.time, counts=counts)"
   ]
  },
  {
   "cell_type": "code",
   "execution_count": 76,
   "metadata": {},
   "outputs": [
    {
     "data": {
      "application/javascript": [
       "/* Put everything inside the global mpl namespace */\n",
       "window.mpl = {};\n",
       "\n",
       "\n",
       "mpl.get_websocket_type = function() {\n",
       "    if (typeof(WebSocket) !== 'undefined') {\n",
       "        return WebSocket;\n",
       "    } else if (typeof(MozWebSocket) !== 'undefined') {\n",
       "        return MozWebSocket;\n",
       "    } else {\n",
       "        alert('Your browser does not have WebSocket support.' +\n",
       "              'Please try Chrome, Safari or Firefox ≥ 6. ' +\n",
       "              'Firefox 4 and 5 are also supported but you ' +\n",
       "              'have to enable WebSockets in about:config.');\n",
       "    };\n",
       "}\n",
       "\n",
       "mpl.figure = function(figure_id, websocket, ondownload, parent_element) {\n",
       "    this.id = figure_id;\n",
       "\n",
       "    this.ws = websocket;\n",
       "\n",
       "    this.supports_binary = (this.ws.binaryType != undefined);\n",
       "\n",
       "    if (!this.supports_binary) {\n",
       "        var warnings = document.getElementById(\"mpl-warnings\");\n",
       "        if (warnings) {\n",
       "            warnings.style.display = 'block';\n",
       "            warnings.textContent = (\n",
       "                \"This browser does not support binary websocket messages. \" +\n",
       "                    \"Performance may be slow.\");\n",
       "        }\n",
       "    }\n",
       "\n",
       "    this.imageObj = new Image();\n",
       "\n",
       "    this.context = undefined;\n",
       "    this.message = undefined;\n",
       "    this.canvas = undefined;\n",
       "    this.rubberband_canvas = undefined;\n",
       "    this.rubberband_context = undefined;\n",
       "    this.format_dropdown = undefined;\n",
       "\n",
       "    this.image_mode = 'full';\n",
       "\n",
       "    this.root = $('<div/>');\n",
       "    this._root_extra_style(this.root)\n",
       "    this.root.attr('style', 'display: inline-block');\n",
       "\n",
       "    $(parent_element).append(this.root);\n",
       "\n",
       "    this._init_header(this);\n",
       "    this._init_canvas(this);\n",
       "    this._init_toolbar(this);\n",
       "\n",
       "    var fig = this;\n",
       "\n",
       "    this.waiting = false;\n",
       "\n",
       "    this.ws.onopen =  function () {\n",
       "            fig.send_message(\"supports_binary\", {value: fig.supports_binary});\n",
       "            fig.send_message(\"send_image_mode\", {});\n",
       "            if (mpl.ratio != 1) {\n",
       "                fig.send_message(\"set_dpi_ratio\", {'dpi_ratio': mpl.ratio});\n",
       "            }\n",
       "            fig.send_message(\"refresh\", {});\n",
       "        }\n",
       "\n",
       "    this.imageObj.onload = function() {\n",
       "            if (fig.image_mode == 'full') {\n",
       "                // Full images could contain transparency (where diff images\n",
       "                // almost always do), so we need to clear the canvas so that\n",
       "                // there is no ghosting.\n",
       "                fig.context.clearRect(0, 0, fig.canvas.width, fig.canvas.height);\n",
       "            }\n",
       "            fig.context.drawImage(fig.imageObj, 0, 0);\n",
       "        };\n",
       "\n",
       "    this.imageObj.onunload = function() {\n",
       "        this.ws.close();\n",
       "    }\n",
       "\n",
       "    this.ws.onmessage = this._make_on_message_function(this);\n",
       "\n",
       "    this.ondownload = ondownload;\n",
       "}\n",
       "\n",
       "mpl.figure.prototype._init_header = function() {\n",
       "    var titlebar = $(\n",
       "        '<div class=\"ui-dialog-titlebar ui-widget-header ui-corner-all ' +\n",
       "        'ui-helper-clearfix\"/>');\n",
       "    var titletext = $(\n",
       "        '<div class=\"ui-dialog-title\" style=\"width: 100%; ' +\n",
       "        'text-align: center; padding: 3px;\"/>');\n",
       "    titlebar.append(titletext)\n",
       "    this.root.append(titlebar);\n",
       "    this.header = titletext[0];\n",
       "}\n",
       "\n",
       "\n",
       "\n",
       "mpl.figure.prototype._canvas_extra_style = function(canvas_div) {\n",
       "\n",
       "}\n",
       "\n",
       "\n",
       "mpl.figure.prototype._root_extra_style = function(canvas_div) {\n",
       "\n",
       "}\n",
       "\n",
       "mpl.figure.prototype._init_canvas = function() {\n",
       "    var fig = this;\n",
       "\n",
       "    var canvas_div = $('<div/>');\n",
       "\n",
       "    canvas_div.attr('style', 'position: relative; clear: both; outline: 0');\n",
       "\n",
       "    function canvas_keyboard_event(event) {\n",
       "        return fig.key_event(event, event['data']);\n",
       "    }\n",
       "\n",
       "    canvas_div.keydown('key_press', canvas_keyboard_event);\n",
       "    canvas_div.keyup('key_release', canvas_keyboard_event);\n",
       "    this.canvas_div = canvas_div\n",
       "    this._canvas_extra_style(canvas_div)\n",
       "    this.root.append(canvas_div);\n",
       "\n",
       "    var canvas = $('<canvas/>');\n",
       "    canvas.addClass('mpl-canvas');\n",
       "    canvas.attr('style', \"left: 0; top: 0; z-index: 0; outline: 0\")\n",
       "\n",
       "    this.canvas = canvas[0];\n",
       "    this.context = canvas[0].getContext(\"2d\");\n",
       "\n",
       "    var backingStore = this.context.backingStorePixelRatio ||\n",
       "\tthis.context.webkitBackingStorePixelRatio ||\n",
       "\tthis.context.mozBackingStorePixelRatio ||\n",
       "\tthis.context.msBackingStorePixelRatio ||\n",
       "\tthis.context.oBackingStorePixelRatio ||\n",
       "\tthis.context.backingStorePixelRatio || 1;\n",
       "\n",
       "    mpl.ratio = (window.devicePixelRatio || 1) / backingStore;\n",
       "\n",
       "    var rubberband = $('<canvas/>');\n",
       "    rubberband.attr('style', \"position: absolute; left: 0; top: 0; z-index: 1;\")\n",
       "\n",
       "    var pass_mouse_events = true;\n",
       "\n",
       "    canvas_div.resizable({\n",
       "        start: function(event, ui) {\n",
       "            pass_mouse_events = false;\n",
       "        },\n",
       "        resize: function(event, ui) {\n",
       "            fig.request_resize(ui.size.width, ui.size.height);\n",
       "        },\n",
       "        stop: function(event, ui) {\n",
       "            pass_mouse_events = true;\n",
       "            fig.request_resize(ui.size.width, ui.size.height);\n",
       "        },\n",
       "    });\n",
       "\n",
       "    function mouse_event_fn(event) {\n",
       "        if (pass_mouse_events)\n",
       "            return fig.mouse_event(event, event['data']);\n",
       "    }\n",
       "\n",
       "    rubberband.mousedown('button_press', mouse_event_fn);\n",
       "    rubberband.mouseup('button_release', mouse_event_fn);\n",
       "    // Throttle sequential mouse events to 1 every 20ms.\n",
       "    rubberband.mousemove('motion_notify', mouse_event_fn);\n",
       "\n",
       "    rubberband.mouseenter('figure_enter', mouse_event_fn);\n",
       "    rubberband.mouseleave('figure_leave', mouse_event_fn);\n",
       "\n",
       "    canvas_div.on(\"wheel\", function (event) {\n",
       "        event = event.originalEvent;\n",
       "        event['data'] = 'scroll'\n",
       "        if (event.deltaY < 0) {\n",
       "            event.step = 1;\n",
       "        } else {\n",
       "            event.step = -1;\n",
       "        }\n",
       "        mouse_event_fn(event);\n",
       "    });\n",
       "\n",
       "    canvas_div.append(canvas);\n",
       "    canvas_div.append(rubberband);\n",
       "\n",
       "    this.rubberband = rubberband;\n",
       "    this.rubberband_canvas = rubberband[0];\n",
       "    this.rubberband_context = rubberband[0].getContext(\"2d\");\n",
       "    this.rubberband_context.strokeStyle = \"#000000\";\n",
       "\n",
       "    this._resize_canvas = function(width, height) {\n",
       "        // Keep the size of the canvas, canvas container, and rubber band\n",
       "        // canvas in synch.\n",
       "        canvas_div.css('width', width)\n",
       "        canvas_div.css('height', height)\n",
       "\n",
       "        canvas.attr('width', width * mpl.ratio);\n",
       "        canvas.attr('height', height * mpl.ratio);\n",
       "        canvas.attr('style', 'width: ' + width + 'px; height: ' + height + 'px;');\n",
       "\n",
       "        rubberband.attr('width', width);\n",
       "        rubberband.attr('height', height);\n",
       "    }\n",
       "\n",
       "    // Set the figure to an initial 600x600px, this will subsequently be updated\n",
       "    // upon first draw.\n",
       "    this._resize_canvas(600, 600);\n",
       "\n",
       "    // Disable right mouse context menu.\n",
       "    $(this.rubberband_canvas).bind(\"contextmenu\",function(e){\n",
       "        return false;\n",
       "    });\n",
       "\n",
       "    function set_focus () {\n",
       "        canvas.focus();\n",
       "        canvas_div.focus();\n",
       "    }\n",
       "\n",
       "    window.setTimeout(set_focus, 100);\n",
       "}\n",
       "\n",
       "mpl.figure.prototype._init_toolbar = function() {\n",
       "    var fig = this;\n",
       "\n",
       "    var nav_element = $('<div/>')\n",
       "    nav_element.attr('style', 'width: 100%');\n",
       "    this.root.append(nav_element);\n",
       "\n",
       "    // Define a callback function for later on.\n",
       "    function toolbar_event(event) {\n",
       "        return fig.toolbar_button_onclick(event['data']);\n",
       "    }\n",
       "    function toolbar_mouse_event(event) {\n",
       "        return fig.toolbar_button_onmouseover(event['data']);\n",
       "    }\n",
       "\n",
       "    for(var toolbar_ind in mpl.toolbar_items) {\n",
       "        var name = mpl.toolbar_items[toolbar_ind][0];\n",
       "        var tooltip = mpl.toolbar_items[toolbar_ind][1];\n",
       "        var image = mpl.toolbar_items[toolbar_ind][2];\n",
       "        var method_name = mpl.toolbar_items[toolbar_ind][3];\n",
       "\n",
       "        if (!name) {\n",
       "            // put a spacer in here.\n",
       "            continue;\n",
       "        }\n",
       "        var button = $('<button/>');\n",
       "        button.addClass('ui-button ui-widget ui-state-default ui-corner-all ' +\n",
       "                        'ui-button-icon-only');\n",
       "        button.attr('role', 'button');\n",
       "        button.attr('aria-disabled', 'false');\n",
       "        button.click(method_name, toolbar_event);\n",
       "        button.mouseover(tooltip, toolbar_mouse_event);\n",
       "\n",
       "        var icon_img = $('<span/>');\n",
       "        icon_img.addClass('ui-button-icon-primary ui-icon');\n",
       "        icon_img.addClass(image);\n",
       "        icon_img.addClass('ui-corner-all');\n",
       "\n",
       "        var tooltip_span = $('<span/>');\n",
       "        tooltip_span.addClass('ui-button-text');\n",
       "        tooltip_span.html(tooltip);\n",
       "\n",
       "        button.append(icon_img);\n",
       "        button.append(tooltip_span);\n",
       "\n",
       "        nav_element.append(button);\n",
       "    }\n",
       "\n",
       "    var fmt_picker_span = $('<span/>');\n",
       "\n",
       "    var fmt_picker = $('<select/>');\n",
       "    fmt_picker.addClass('mpl-toolbar-option ui-widget ui-widget-content');\n",
       "    fmt_picker_span.append(fmt_picker);\n",
       "    nav_element.append(fmt_picker_span);\n",
       "    this.format_dropdown = fmt_picker[0];\n",
       "\n",
       "    for (var ind in mpl.extensions) {\n",
       "        var fmt = mpl.extensions[ind];\n",
       "        var option = $(\n",
       "            '<option/>', {selected: fmt === mpl.default_extension}).html(fmt);\n",
       "        fmt_picker.append(option)\n",
       "    }\n",
       "\n",
       "    // Add hover states to the ui-buttons\n",
       "    $( \".ui-button\" ).hover(\n",
       "        function() { $(this).addClass(\"ui-state-hover\");},\n",
       "        function() { $(this).removeClass(\"ui-state-hover\");}\n",
       "    );\n",
       "\n",
       "    var status_bar = $('<span class=\"mpl-message\"/>');\n",
       "    nav_element.append(status_bar);\n",
       "    this.message = status_bar[0];\n",
       "}\n",
       "\n",
       "mpl.figure.prototype.request_resize = function(x_pixels, y_pixels) {\n",
       "    // Request matplotlib to resize the figure. Matplotlib will then trigger a resize in the client,\n",
       "    // which will in turn request a refresh of the image.\n",
       "    this.send_message('resize', {'width': x_pixels, 'height': y_pixels});\n",
       "}\n",
       "\n",
       "mpl.figure.prototype.send_message = function(type, properties) {\n",
       "    properties['type'] = type;\n",
       "    properties['figure_id'] = this.id;\n",
       "    this.ws.send(JSON.stringify(properties));\n",
       "}\n",
       "\n",
       "mpl.figure.prototype.send_draw_message = function() {\n",
       "    if (!this.waiting) {\n",
       "        this.waiting = true;\n",
       "        this.ws.send(JSON.stringify({type: \"draw\", figure_id: this.id}));\n",
       "    }\n",
       "}\n",
       "\n",
       "\n",
       "mpl.figure.prototype.handle_save = function(fig, msg) {\n",
       "    var format_dropdown = fig.format_dropdown;\n",
       "    var format = format_dropdown.options[format_dropdown.selectedIndex].value;\n",
       "    fig.ondownload(fig, format);\n",
       "}\n",
       "\n",
       "\n",
       "mpl.figure.prototype.handle_resize = function(fig, msg) {\n",
       "    var size = msg['size'];\n",
       "    if (size[0] != fig.canvas.width || size[1] != fig.canvas.height) {\n",
       "        fig._resize_canvas(size[0], size[1]);\n",
       "        fig.send_message(\"refresh\", {});\n",
       "    };\n",
       "}\n",
       "\n",
       "mpl.figure.prototype.handle_rubberband = function(fig, msg) {\n",
       "    var x0 = msg['x0'] / mpl.ratio;\n",
       "    var y0 = (fig.canvas.height - msg['y0']) / mpl.ratio;\n",
       "    var x1 = msg['x1'] / mpl.ratio;\n",
       "    var y1 = (fig.canvas.height - msg['y1']) / mpl.ratio;\n",
       "    x0 = Math.floor(x0) + 0.5;\n",
       "    y0 = Math.floor(y0) + 0.5;\n",
       "    x1 = Math.floor(x1) + 0.5;\n",
       "    y1 = Math.floor(y1) + 0.5;\n",
       "    var min_x = Math.min(x0, x1);\n",
       "    var min_y = Math.min(y0, y1);\n",
       "    var width = Math.abs(x1 - x0);\n",
       "    var height = Math.abs(y1 - y0);\n",
       "\n",
       "    fig.rubberband_context.clearRect(\n",
       "        0, 0, fig.canvas.width, fig.canvas.height);\n",
       "\n",
       "    fig.rubberband_context.strokeRect(min_x, min_y, width, height);\n",
       "}\n",
       "\n",
       "mpl.figure.prototype.handle_figure_label = function(fig, msg) {\n",
       "    // Updates the figure title.\n",
       "    fig.header.textContent = msg['label'];\n",
       "}\n",
       "\n",
       "mpl.figure.prototype.handle_cursor = function(fig, msg) {\n",
       "    var cursor = msg['cursor'];\n",
       "    switch(cursor)\n",
       "    {\n",
       "    case 0:\n",
       "        cursor = 'pointer';\n",
       "        break;\n",
       "    case 1:\n",
       "        cursor = 'default';\n",
       "        break;\n",
       "    case 2:\n",
       "        cursor = 'crosshair';\n",
       "        break;\n",
       "    case 3:\n",
       "        cursor = 'move';\n",
       "        break;\n",
       "    }\n",
       "    fig.rubberband_canvas.style.cursor = cursor;\n",
       "}\n",
       "\n",
       "mpl.figure.prototype.handle_message = function(fig, msg) {\n",
       "    fig.message.textContent = msg['message'];\n",
       "}\n",
       "\n",
       "mpl.figure.prototype.handle_draw = function(fig, msg) {\n",
       "    // Request the server to send over a new figure.\n",
       "    fig.send_draw_message();\n",
       "}\n",
       "\n",
       "mpl.figure.prototype.handle_image_mode = function(fig, msg) {\n",
       "    fig.image_mode = msg['mode'];\n",
       "}\n",
       "\n",
       "mpl.figure.prototype.updated_canvas_event = function() {\n",
       "    // Called whenever the canvas gets updated.\n",
       "    this.send_message(\"ack\", {});\n",
       "}\n",
       "\n",
       "// A function to construct a web socket function for onmessage handling.\n",
       "// Called in the figure constructor.\n",
       "mpl.figure.prototype._make_on_message_function = function(fig) {\n",
       "    return function socket_on_message(evt) {\n",
       "        if (evt.data instanceof Blob) {\n",
       "            /* FIXME: We get \"Resource interpreted as Image but\n",
       "             * transferred with MIME type text/plain:\" errors on\n",
       "             * Chrome.  But how to set the MIME type?  It doesn't seem\n",
       "             * to be part of the websocket stream */\n",
       "            evt.data.type = \"image/png\";\n",
       "\n",
       "            /* Free the memory for the previous frames */\n",
       "            if (fig.imageObj.src) {\n",
       "                (window.URL || window.webkitURL).revokeObjectURL(\n",
       "                    fig.imageObj.src);\n",
       "            }\n",
       "\n",
       "            fig.imageObj.src = (window.URL || window.webkitURL).createObjectURL(\n",
       "                evt.data);\n",
       "            fig.updated_canvas_event();\n",
       "            fig.waiting = false;\n",
       "            return;\n",
       "        }\n",
       "        else if (typeof evt.data === 'string' && evt.data.slice(0, 21) == \"data:image/png;base64\") {\n",
       "            fig.imageObj.src = evt.data;\n",
       "            fig.updated_canvas_event();\n",
       "            fig.waiting = false;\n",
       "            return;\n",
       "        }\n",
       "\n",
       "        var msg = JSON.parse(evt.data);\n",
       "        var msg_type = msg['type'];\n",
       "\n",
       "        // Call the  \"handle_{type}\" callback, which takes\n",
       "        // the figure and JSON message as its only arguments.\n",
       "        try {\n",
       "            var callback = fig[\"handle_\" + msg_type];\n",
       "        } catch (e) {\n",
       "            console.log(\"No handler for the '\" + msg_type + \"' message type: \", msg);\n",
       "            return;\n",
       "        }\n",
       "\n",
       "        if (callback) {\n",
       "            try {\n",
       "                // console.log(\"Handling '\" + msg_type + \"' message: \", msg);\n",
       "                callback(fig, msg);\n",
       "            } catch (e) {\n",
       "                console.log(\"Exception inside the 'handler_\" + msg_type + \"' callback:\", e, e.stack, msg);\n",
       "            }\n",
       "        }\n",
       "    };\n",
       "}\n",
       "\n",
       "// from http://stackoverflow.com/questions/1114465/getting-mouse-location-in-canvas\n",
       "mpl.findpos = function(e) {\n",
       "    //this section is from http://www.quirksmode.org/js/events_properties.html\n",
       "    var targ;\n",
       "    if (!e)\n",
       "        e = window.event;\n",
       "    if (e.target)\n",
       "        targ = e.target;\n",
       "    else if (e.srcElement)\n",
       "        targ = e.srcElement;\n",
       "    if (targ.nodeType == 3) // defeat Safari bug\n",
       "        targ = targ.parentNode;\n",
       "\n",
       "    // jQuery normalizes the pageX and pageY\n",
       "    // pageX,Y are the mouse positions relative to the document\n",
       "    // offset() returns the position of the element relative to the document\n",
       "    var x = e.pageX - $(targ).offset().left;\n",
       "    var y = e.pageY - $(targ).offset().top;\n",
       "\n",
       "    return {\"x\": x, \"y\": y};\n",
       "};\n",
       "\n",
       "/*\n",
       " * return a copy of an object with only non-object keys\n",
       " * we need this to avoid circular references\n",
       " * http://stackoverflow.com/a/24161582/3208463\n",
       " */\n",
       "function simpleKeys (original) {\n",
       "  return Object.keys(original).reduce(function (obj, key) {\n",
       "    if (typeof original[key] !== 'object')\n",
       "        obj[key] = original[key]\n",
       "    return obj;\n",
       "  }, {});\n",
       "}\n",
       "\n",
       "mpl.figure.prototype.mouse_event = function(event, name) {\n",
       "    var canvas_pos = mpl.findpos(event)\n",
       "\n",
       "    if (name === 'button_press')\n",
       "    {\n",
       "        this.canvas.focus();\n",
       "        this.canvas_div.focus();\n",
       "    }\n",
       "\n",
       "    var x = canvas_pos.x * mpl.ratio;\n",
       "    var y = canvas_pos.y * mpl.ratio;\n",
       "\n",
       "    this.send_message(name, {x: x, y: y, button: event.button,\n",
       "                             step: event.step,\n",
       "                             guiEvent: simpleKeys(event)});\n",
       "\n",
       "    /* This prevents the web browser from automatically changing to\n",
       "     * the text insertion cursor when the button is pressed.  We want\n",
       "     * to control all of the cursor setting manually through the\n",
       "     * 'cursor' event from matplotlib */\n",
       "    event.preventDefault();\n",
       "    return false;\n",
       "}\n",
       "\n",
       "mpl.figure.prototype._key_event_extra = function(event, name) {\n",
       "    // Handle any extra behaviour associated with a key event\n",
       "}\n",
       "\n",
       "mpl.figure.prototype.key_event = function(event, name) {\n",
       "\n",
       "    // Prevent repeat events\n",
       "    if (name == 'key_press')\n",
       "    {\n",
       "        if (event.which === this._key)\n",
       "            return;\n",
       "        else\n",
       "            this._key = event.which;\n",
       "    }\n",
       "    if (name == 'key_release')\n",
       "        this._key = null;\n",
       "\n",
       "    var value = '';\n",
       "    if (event.ctrlKey && event.which != 17)\n",
       "        value += \"ctrl+\";\n",
       "    if (event.altKey && event.which != 18)\n",
       "        value += \"alt+\";\n",
       "    if (event.shiftKey && event.which != 16)\n",
       "        value += \"shift+\";\n",
       "\n",
       "    value += 'k';\n",
       "    value += event.which.toString();\n",
       "\n",
       "    this._key_event_extra(event, name);\n",
       "\n",
       "    this.send_message(name, {key: value,\n",
       "                             guiEvent: simpleKeys(event)});\n",
       "    return false;\n",
       "}\n",
       "\n",
       "mpl.figure.prototype.toolbar_button_onclick = function(name) {\n",
       "    if (name == 'download') {\n",
       "        this.handle_save(this, null);\n",
       "    } else {\n",
       "        this.send_message(\"toolbar_button\", {name: name});\n",
       "    }\n",
       "};\n",
       "\n",
       "mpl.figure.prototype.toolbar_button_onmouseover = function(tooltip) {\n",
       "    this.message.textContent = tooltip;\n",
       "};\n",
       "mpl.toolbar_items = [[\"Home\", \"Reset original view\", \"fa fa-home icon-home\", \"home\"], [\"Back\", \"Back to  previous view\", \"fa fa-arrow-left icon-arrow-left\", \"back\"], [\"Forward\", \"Forward to next view\", \"fa fa-arrow-right icon-arrow-right\", \"forward\"], [\"\", \"\", \"\", \"\"], [\"Pan\", \"Pan axes with left mouse, zoom with right\", \"fa fa-arrows icon-move\", \"pan\"], [\"Zoom\", \"Zoom to rectangle\", \"fa fa-square-o icon-check-empty\", \"zoom\"], [\"\", \"\", \"\", \"\"], [\"Download\", \"Download plot\", \"fa fa-floppy-o icon-save\", \"download\"]];\n",
       "\n",
       "mpl.extensions = [\"eps\", \"jpeg\", \"pdf\", \"png\", \"ps\", \"raw\", \"svg\", \"tif\"];\n",
       "\n",
       "mpl.default_extension = \"png\";var comm_websocket_adapter = function(comm) {\n",
       "    // Create a \"websocket\"-like object which calls the given IPython comm\n",
       "    // object with the appropriate methods. Currently this is a non binary\n",
       "    // socket, so there is still some room for performance tuning.\n",
       "    var ws = {};\n",
       "\n",
       "    ws.close = function() {\n",
       "        comm.close()\n",
       "    };\n",
       "    ws.send = function(m) {\n",
       "        //console.log('sending', m);\n",
       "        comm.send(m);\n",
       "    };\n",
       "    // Register the callback with on_msg.\n",
       "    comm.on_msg(function(msg) {\n",
       "        //console.log('receiving', msg['content']['data'], msg);\n",
       "        // Pass the mpl event to the overriden (by mpl) onmessage function.\n",
       "        ws.onmessage(msg['content']['data'])\n",
       "    });\n",
       "    return ws;\n",
       "}\n",
       "\n",
       "mpl.mpl_figure_comm = function(comm, msg) {\n",
       "    // This is the function which gets called when the mpl process\n",
       "    // starts-up an IPython Comm through the \"matplotlib\" channel.\n",
       "\n",
       "    var id = msg.content.data.id;\n",
       "    // Get hold of the div created by the display call when the Comm\n",
       "    // socket was opened in Python.\n",
       "    var element = $(\"#\" + id);\n",
       "    var ws_proxy = comm_websocket_adapter(comm)\n",
       "\n",
       "    function ondownload(figure, format) {\n",
       "        window.open(figure.imageObj.src);\n",
       "    }\n",
       "\n",
       "    var fig = new mpl.figure(id, ws_proxy,\n",
       "                           ondownload,\n",
       "                           element.get(0));\n",
       "\n",
       "    // Call onopen now - mpl needs it, as it is assuming we've passed it a real\n",
       "    // web socket which is closed, not our websocket->open comm proxy.\n",
       "    ws_proxy.onopen();\n",
       "\n",
       "    fig.parent_element = element.get(0);\n",
       "    fig.cell_info = mpl.find_output_cell(\"<div id='\" + id + \"'></div>\");\n",
       "    if (!fig.cell_info) {\n",
       "        console.error(\"Failed to find cell for figure\", id, fig);\n",
       "        return;\n",
       "    }\n",
       "\n",
       "    var output_index = fig.cell_info[2]\n",
       "    var cell = fig.cell_info[0];\n",
       "\n",
       "};\n",
       "\n",
       "mpl.figure.prototype.handle_close = function(fig, msg) {\n",
       "    var width = fig.canvas.width/mpl.ratio\n",
       "    fig.root.unbind('remove')\n",
       "\n",
       "    // Update the output cell to use the data from the current canvas.\n",
       "    fig.push_to_output();\n",
       "    var dataURL = fig.canvas.toDataURL();\n",
       "    // Re-enable the keyboard manager in IPython - without this line, in FF,\n",
       "    // the notebook keyboard shortcuts fail.\n",
       "    IPython.keyboard_manager.enable()\n",
       "    $(fig.parent_element).html('<img src=\"' + dataURL + '\" width=\"' + width + '\">');\n",
       "    fig.close_ws(fig, msg);\n",
       "}\n",
       "\n",
       "mpl.figure.prototype.close_ws = function(fig, msg){\n",
       "    fig.send_message('closing', msg);\n",
       "    // fig.ws.close()\n",
       "}\n",
       "\n",
       "mpl.figure.prototype.push_to_output = function(remove_interactive) {\n",
       "    // Turn the data on the canvas into data in the output cell.\n",
       "    var width = this.canvas.width/mpl.ratio\n",
       "    var dataURL = this.canvas.toDataURL();\n",
       "    this.cell_info[1]['text/html'] = '<img src=\"' + dataURL + '\" width=\"' + width + '\">';\n",
       "}\n",
       "\n",
       "mpl.figure.prototype.updated_canvas_event = function() {\n",
       "    // Tell IPython that the notebook contents must change.\n",
       "    IPython.notebook.set_dirty(true);\n",
       "    this.send_message(\"ack\", {});\n",
       "    var fig = this;\n",
       "    // Wait a second, then push the new image to the DOM so\n",
       "    // that it is saved nicely (might be nice to debounce this).\n",
       "    setTimeout(function () { fig.push_to_output() }, 1000);\n",
       "}\n",
       "\n",
       "mpl.figure.prototype._init_toolbar = function() {\n",
       "    var fig = this;\n",
       "\n",
       "    var nav_element = $('<div/>')\n",
       "    nav_element.attr('style', 'width: 100%');\n",
       "    this.root.append(nav_element);\n",
       "\n",
       "    // Define a callback function for later on.\n",
       "    function toolbar_event(event) {\n",
       "        return fig.toolbar_button_onclick(event['data']);\n",
       "    }\n",
       "    function toolbar_mouse_event(event) {\n",
       "        return fig.toolbar_button_onmouseover(event['data']);\n",
       "    }\n",
       "\n",
       "    for(var toolbar_ind in mpl.toolbar_items){\n",
       "        var name = mpl.toolbar_items[toolbar_ind][0];\n",
       "        var tooltip = mpl.toolbar_items[toolbar_ind][1];\n",
       "        var image = mpl.toolbar_items[toolbar_ind][2];\n",
       "        var method_name = mpl.toolbar_items[toolbar_ind][3];\n",
       "\n",
       "        if (!name) { continue; };\n",
       "\n",
       "        var button = $('<button class=\"btn btn-default\" href=\"#\" title=\"' + name + '\"><i class=\"fa ' + image + ' fa-lg\"></i></button>');\n",
       "        button.click(method_name, toolbar_event);\n",
       "        button.mouseover(tooltip, toolbar_mouse_event);\n",
       "        nav_element.append(button);\n",
       "    }\n",
       "\n",
       "    // Add the status bar.\n",
       "    var status_bar = $('<span class=\"mpl-message\" style=\"text-align:right; float: right;\"/>');\n",
       "    nav_element.append(status_bar);\n",
       "    this.message = status_bar[0];\n",
       "\n",
       "    // Add the close button to the window.\n",
       "    var buttongrp = $('<div class=\"btn-group inline pull-right\"></div>');\n",
       "    var button = $('<button class=\"btn btn-mini btn-primary\" href=\"#\" title=\"Stop Interaction\"><i class=\"fa fa-power-off icon-remove icon-large\"></i></button>');\n",
       "    button.click(function (evt) { fig.handle_close(fig, {}); } );\n",
       "    button.mouseover('Stop Interaction', toolbar_mouse_event);\n",
       "    buttongrp.append(button);\n",
       "    var titlebar = this.root.find($('.ui-dialog-titlebar'));\n",
       "    titlebar.prepend(buttongrp);\n",
       "}\n",
       "\n",
       "mpl.figure.prototype._root_extra_style = function(el){\n",
       "    var fig = this\n",
       "    el.on(\"remove\", function(){\n",
       "\tfig.close_ws(fig, {});\n",
       "    });\n",
       "}\n",
       "\n",
       "mpl.figure.prototype._canvas_extra_style = function(el){\n",
       "    // this is important to make the div 'focusable\n",
       "    el.attr('tabindex', 0)\n",
       "    // reach out to IPython and tell the keyboard manager to turn it's self\n",
       "    // off when our div gets focus\n",
       "\n",
       "    // location in version 3\n",
       "    if (IPython.notebook.keyboard_manager) {\n",
       "        IPython.notebook.keyboard_manager.register_events(el);\n",
       "    }\n",
       "    else {\n",
       "        // location in version 2\n",
       "        IPython.keyboard_manager.register_events(el);\n",
       "    }\n",
       "\n",
       "}\n",
       "\n",
       "mpl.figure.prototype._key_event_extra = function(event, name) {\n",
       "    var manager = IPython.notebook.keyboard_manager;\n",
       "    if (!manager)\n",
       "        manager = IPython.keyboard_manager;\n",
       "\n",
       "    // Check for shift+enter\n",
       "    if (event.shiftKey && event.which == 13) {\n",
       "        this.canvas_div.blur();\n",
       "        // select the cell after this one\n",
       "        var index = IPython.notebook.find_cell_index(this.cell_info[0]);\n",
       "        IPython.notebook.select(index + 1);\n",
       "    }\n",
       "}\n",
       "\n",
       "mpl.figure.prototype.handle_save = function(fig, msg) {\n",
       "    fig.ondownload(fig, null);\n",
       "}\n",
       "\n",
       "\n",
       "mpl.find_output_cell = function(html_output) {\n",
       "    // Return the cell and output element which can be found *uniquely* in the notebook.\n",
       "    // Note - this is a bit hacky, but it is done because the \"notebook_saving.Notebook\"\n",
       "    // IPython event is triggered only after the cells have been serialised, which for\n",
       "    // our purposes (turning an active figure into a static one), is too late.\n",
       "    var cells = IPython.notebook.get_cells();\n",
       "    var ncells = cells.length;\n",
       "    for (var i=0; i<ncells; i++) {\n",
       "        var cell = cells[i];\n",
       "        if (cell.cell_type === 'code'){\n",
       "            for (var j=0; j<cell.output_area.outputs.length; j++) {\n",
       "                var data = cell.output_area.outputs[j];\n",
       "                if (data.data) {\n",
       "                    // IPython >= 3 moved mimebundle to data attribute of output\n",
       "                    data = data.data;\n",
       "                }\n",
       "                if (data['text/html'] == html_output) {\n",
       "                    return [cell, data, j];\n",
       "                }\n",
       "            }\n",
       "        }\n",
       "    }\n",
       "}\n",
       "\n",
       "// Register the function which deals with the matplotlib target/channel.\n",
       "// The kernel may be null if the page has been refreshed.\n",
       "if (IPython.notebook.kernel != null) {\n",
       "    IPython.notebook.kernel.comm_manager.register_target('matplotlib', mpl.mpl_figure_comm);\n",
       "}\n"
      ],
      "text/plain": [
       "<IPython.core.display.Javascript object>"
      ]
     },
     "metadata": {},
     "output_type": "display_data"
    },
    {
     "data": {
      "text/html": [
       "<img src=\"data:image/png;base64,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\" width=\"1000\">"
      ],
      "text/plain": [
       "<IPython.core.display.HTML object>"
      ]
     },
     "metadata": {},
     "output_type": "display_data"
    }
   ],
   "source": [
    "fig, (ax1, ax2) = plt.subplots(1, 2, figsize=(10, 4))\n",
    "\n",
    "ax1.loglog(freq, spec, color=data_colour)\n",
    "ax1.set_xlabel(r\"Frequency $\\nu$ [Hz]\")\n",
    "ax1.set_ylabel(\"Leahy-normalized power\")\n",
    "ax1.set_xlim(freq[0], freq[-1])\n",
    "\n",
    "\n",
    "ax2.plot(lc.time, lc.countrate, color=data_colour, \n",
    "         linewidth=1, label=\"unbinned light curve\")\n",
    "lcbin = lc.rebin(5.0)\n",
    "ax2.plot(lcbin.time, lcbin.countrate, lw=1,\n",
    "             label=\"binned light curve\")\n",
    "ax2.set_xlim(lcbin.time[0], lcbin.time[-2])\n",
    "ax2.set_ylim(0, 1300)\n",
    "ax2.legend()\n",
    "ax2.set_xlabel(\"Time [s]\")\n",
    "ax2.set_ylabel(\"Count rate [counts/s]\")\n",
    "\n",
    "plt.tight_layout()\n",
    "plt.savefig(\"../figures/lc.png\", format=\"png\")"
   ]
  },
  {
   "cell_type": "markdown",
   "metadata": {},
   "source": [
    "We can also include GTIs:"
   ]
  },
  {
   "cell_type": "code",
   "execution_count": null,
   "metadata": {
    "collapsed": true
   },
   "outputs": [],
   "source": [
    "gtis = [(0, 2000), (3000, lc.time[-1])]"
   ]
  },
  {
   "cell_type": "code",
   "execution_count": null,
   "metadata": {
    "collapsed": true
   },
   "outputs": [],
   "source": [
    "lc.gti = gtis"
   ]
  },
  {
   "cell_type": "code",
   "execution_count": null,
   "metadata": {},
   "outputs": [],
   "source": [
    "lcs = lc.split_by_gti()"
   ]
  },
  {
   "cell_type": "code",
   "execution_count": null,
   "metadata": {},
   "outputs": [],
   "source": [
    "fig, ax = plt.subplots(1, 1, figsize=(6, 4))\n",
    "for l in lcs:\n",
    "    ax.plot(l.time, l.countrate, color=data_colour, linewidth=1)\n",
    "\n",
    "ax.set_xlim(lcs[0].time[0], lcs[-1].time[-1])"
   ]
  },
  {
   "cell_type": "markdown",
   "metadata": {},
   "source": [
    "Let's make a power spectrum out of the light curve (without GTIs, because I can't make a single power spectrum out of an observation that has non-contiguous GTIs):"
   ]
  },
  {
   "cell_type": "code",
   "execution_count": null,
   "metadata": {
    "collapsed": true
   },
   "outputs": [],
   "source": [
    "from stingray import Powerspectrum"
   ]
  },
  {
   "cell_type": "code",
   "execution_count": null,
   "metadata": {
    "collapsed": true
   },
   "outputs": [],
   "source": [
    "lc.gti = np.array([[lc.time[0], lc.time[-1]]])"
   ]
  },
  {
   "cell_type": "code",
   "execution_count": null,
   "metadata": {},
   "outputs": [],
   "source": [
    "ps = Powerspectrum(lc, norm=\"leahy\", gti=None)"
   ]
  },
  {
   "cell_type": "code",
   "execution_count": null,
   "metadata": {},
   "outputs": [],
   "source": [
    "fig, ax = plt.subplots(1, 1, figsize=(6,4))\n",
    "ax.loglog(ps.freq, ps.power, linestyle=\"steps-mid\", lw=1, color=data_colour)\n",
    "ax.set_xlim(ps.freq[0], ps.freq[-1])\n",
    "ax.set_ylim(1e-5, 1e5)\n",
    "ax.set_xlabel(\"Frequency [Hz]\")\n",
    "ax.set_ylabel(r\"Power [$(\\mathrm{rms}/\\mathrm{mean})^2/\\mathrm{Hz}$]\")\n",
    "\n",
    "plt.tight_layout()"
   ]
  },
  {
   "cell_type": "markdown",
   "metadata": {},
   "source": [
    "Let's rebin this so we can see the QPO. We're going to try both geometric rebinning and logarithmic rebinning:"
   ]
  },
  {
   "cell_type": "code",
   "execution_count": null,
   "metadata": {},
   "outputs": [],
   "source": [
    "ps_rebin = ps.rebin(df=0.001)\n",
    "ps_log_rebin = ps.rebin_log()"
   ]
  },
  {
   "cell_type": "code",
   "execution_count": null,
   "metadata": {},
   "outputs": [],
   "source": [
    "fig, ax = plt.subplots(1, 1, figsize=(6,4))\n",
    "ax.loglog(ps.freq, ps.power, linestyle=\"steps-mid\", color=data_colour, \n",
    "         linewidth=1, alpha=0.5, label=\"Unbinned power spectrum\")\n",
    "ax.loglog(ps_rebin.freq, ps_rebin.power, linestyle=\"steps-mid\", color=sns.color_palette()[0],\n",
    "         linewidth=2, alpha=1.0, label=\"Linearly rebinned power spectrum\")\n",
    "ax.loglog(ps_log_rebin.freq, ps_log_rebin.power, linestyle=\"steps-mid\", color=sns.color_palette()[2],\n",
    "         linewidth=2, alpha=0.8, label=\"logarithmically rebinned power spectrum\")\n",
    "\n",
    "ax.set_xlim(ps_rebin.freq[1], ps_rebin.freq[-1])\n",
    "ax.set_ylim(1e-5, 1000)\n",
    "ax.legend(loc=1, prop={\"size\":11})\n",
    "ax.set_xlabel(\"Frequency [Hz]\")\n",
    "ax.set_ylabel(r\"Power [$(\\mathrm{rms}/\\mathrm{mean})^2/\\mathrm{Hz}$]\")\n",
    "plt.tight_layout()\n"
   ]
  },
  {
   "cell_type": "markdown",
   "metadata": {},
   "source": [
    "Let's make an averaged powerspectrum so that the QPO is visible:"
   ]
  },
  {
   "cell_type": "code",
   "execution_count": null,
   "metadata": {
    "collapsed": true
   },
   "outputs": [],
   "source": [
    "from stingray import AveragedPowerspectrum"
   ]
  },
  {
   "cell_type": "code",
   "execution_count": null,
   "metadata": {},
   "outputs": [],
   "source": [
    "aps = AveragedPowerspectrum(lc, segment_size=256.0)"
   ]
  },
  {
   "cell_type": "markdown",
   "metadata": {},
   "source": [
    "We can also rebin this version for a much clearer view:"
   ]
  },
  {
   "cell_type": "code",
   "execution_count": null,
   "metadata": {},
   "outputs": [],
   "source": [
    "aps_binned = aps.rebin_log()"
   ]
  },
  {
   "cell_type": "code",
   "execution_count": null,
   "metadata": {},
   "outputs": [],
   "source": [
    "fig, ax = plt.subplots(1, 1, figsize=(6,4))\n",
    "ax.errorbar(aps.freq, aps.power, yerr=aps.power_err, fmt=\"o\", markersize=3, \n",
    "            color=data_colour, lw=1, label=\"Averaged PSD, m=60\")\n",
    "\n",
    "ax.errorbar(aps_binned.freq, aps_binned.power, yerr=aps_binned.power_err, fmt=\"o\", markersize=3, \n",
    "            color=sns.color_palette()[2], lw=1, label=\"Averaged, log-binned PSD, m=60\")\n",
    "\n",
    "ax.set_xscale(\"log\")\n",
    "ax.set_yscale(\"log\")\n",
    "ax.set_xlim(aps.freq[0], aps.freq[-1])\n",
    "ax.set_xlabel(\"Frequency [Hz]\")\n",
    "ax.set_ylabel(r\"Power [$(\\mathrm{rms}/\\mathrm{mean})^2/\\mathrm{Hz}$]\")\n",
    "ax.legend(loc=1, prop={\"size\":11})\n",
    "plt.tight_layout()"
   ]
  },
  {
   "cell_type": "markdown",
   "metadata": {},
   "source": [
    "Awesome! The QPO pops out much more clearly!\n",
    "\n",
    "### Modeling the power spectrum\n",
    "\n",
    "We're going to write the modeling section later, but I might as well look at the modeling right now.\n",
    "\n",
    "So let's take our model and fit it to the averaged power spectrum:"
   ]
  },
  {
   "cell_type": "code",
   "execution_count": null,
   "metadata": {
    "collapsed": true
   },
   "outputs": [],
   "source": [
    "from stingray.modeling import PSDLogLikelihood, PSDPosterior, PSDParEst"
   ]
  },
  {
   "cell_type": "markdown",
   "metadata": {},
   "source": [
    "First, we'll have to make a `LogLikelihood` object:"
   ]
  },
  {
   "cell_type": "code",
   "execution_count": null,
   "metadata": {
    "collapsed": true
   },
   "outputs": [],
   "source": [
    "loglike = PSDLogLikelihood(ps.freq, ps.power, m, m=ps.m)"
   ]
  },
  {
   "cell_type": "markdown",
   "metadata": {},
   "source": [
    "Let's print an example:"
   ]
  },
  {
   "cell_type": "code",
   "execution_count": null,
   "metadata": {},
   "outputs": [],
   "source": [
    "start_pars = [0.005, 1.0, 0.2, 2.0, 1.0, 0.2]"
   ]
  },
  {
   "cell_type": "code",
   "execution_count": null,
   "metadata": {},
   "outputs": [],
   "source": [
    "loglike(start_pars)"
   ]
  },
  {
   "cell_type": "code",
   "execution_count": null,
   "metadata": {
    "collapsed": true
   },
   "outputs": [],
   "source": [
    "parest = PSDParEst(ps, fitmethod='L-BFGS-B', max_post=False)"
   ]
  },
  {
   "cell_type": "code",
   "execution_count": null,
   "metadata": {
    "scrolled": true
   },
   "outputs": [],
   "source": [
    "res = parest.fit(loglike, start_pars)"
   ]
  },
  {
   "cell_type": "code",
   "execution_count": null,
   "metadata": {},
   "outputs": [],
   "source": [
    "res.p_opt"
   ]
  },
  {
   "cell_type": "code",
   "execution_count": null,
   "metadata": {
    "scrolled": false
   },
   "outputs": [],
   "source": [
    "fig, ax = plt.subplots(1, 1, figsize=(6,4))\n",
    "ax.loglog(ps.freq, ps.power, \n",
    "            markersize=3, linewidth=1, color=data_colour)\n",
    "ax.plot(ps.freq, res.mfit, lw=2, color=model_colour)\n",
    "ax.set_xlim(ps.freq[0], ps.freq[-1])\n",
    "ax.set_xscale('log')\n",
    "ax.set_yscale(\"log\")\n",
    "ax.set_xlabel(\"Frequency [Hz]\")\n",
    "ax.set_ylabel(r\"Power [$(\\mathrm{rms}/\\mathrm{mean})^2/\\mathrm{Hz}$]\")\n",
    "plt.tight_layout()"
   ]
  },
  {
   "cell_type": "markdown",
   "metadata": {},
   "source": [
    "Ok, cool. Let's also fit the averaged power spectrum:"
   ]
  },
  {
   "cell_type": "code",
   "execution_count": null,
   "metadata": {
    "collapsed": true
   },
   "outputs": [],
   "source": [
    "aps_parest = PSDParEst(aps, fitmethod='L-BFGS-B', max_post=False)"
   ]
  },
  {
   "cell_type": "code",
   "execution_count": null,
   "metadata": {
    "collapsed": true
   },
   "outputs": [],
   "source": [
    "aps_loglike = PSDLogLikelihood(aps.freq, aps.power, m, m=aps.m)"
   ]
  },
  {
   "cell_type": "code",
   "execution_count": null,
   "metadata": {
    "collapsed": true
   },
   "outputs": [],
   "source": [
    "aps_pars = [0.0005, 1, 0.001, 2, 1, 0.001]"
   ]
  },
  {
   "cell_type": "code",
   "execution_count": null,
   "metadata": {},
   "outputs": [],
   "source": [
    "aps_res = aps_parest.fit(aps_loglike, aps_pars)"
   ]
  },
  {
   "cell_type": "code",
   "execution_count": null,
   "metadata": {},
   "outputs": [],
   "source": [
    "aps_res.p_opt"
   ]
  },
  {
   "cell_type": "code",
   "execution_count": null,
   "metadata": {},
   "outputs": [],
   "source": [
    "fig, ax = plt.subplots(1, 1, figsize=(6,4))\n",
    "ax.errorbar(aps.freq, aps.power, yerr=aps.power_err, fmt=\"o\",\n",
    "            markersize=3, linewidth=1, color=data_colour, \n",
    "            label=\"Averaged PSD\")\n",
    "ax.plot(aps.freq, aps_res.mfit, lw=2, color=model_colour, zorder=10,\n",
    "        label=\"best-fit model\")\n",
    "ax.set_xlim(aps.freq[0], aps.freq[-1])\n",
    "ax.set_xscale('log')\n",
    "ax.set_yscale(\"log\")\n",
    "ax.set_xlabel(\"Frequency [Hz]\")\n",
    "ax.set_ylabel(r\"Power [$(\\mathrm{rms}/\\mathrm{mean})^2/\\mathrm{Hz}$]\")\n",
    "ax.legend(loc=1, prop={\"size\":11})\n",
    "plt.tight_layout()"
   ]
  },
  {
   "cell_type": "markdown",
   "metadata": {},
   "source": [
    "### Sampling\n",
    "\n",
    "Let's also look at the sampling. For this we are going to need a Posterior object and priors."
   ]
  },
  {
   "cell_type": "code",
   "execution_count": null,
   "metadata": {},
   "outputs": [],
   "source": [
    "m.param_names"
   ]
  },
  {
   "cell_type": "code",
   "execution_count": null,
   "metadata": {
    "collapsed": true
   },
   "outputs": [],
   "source": [
    "import scipy.stats"
   ]
  },
  {
   "cell_type": "code",
   "execution_count": null,
   "metadata": {},
   "outputs": [],
   "source": [
    "aps.freq[-1]"
   ]
  },
  {
   "cell_type": "code",
   "execution_count": null,
   "metadata": {
    "collapsed": true
   },
   "outputs": [],
   "source": [
    "p_amplitude_0 = lambda amplitude: scipy.stats.uniform(loc=-20, scale=40).pdf(np.log(amplitude))\n",
    "p_amplitude_1 = lambda amplitude: scipy.stats.uniform(loc=-20, scale=40).pdf(np.log(amplitude))\n",
    "p_amplitude_2 = lambda amplitude: scipy.stats.uniform(loc=-20, scale=40).pdf(np.log(amplitude))\n",
    "\n",
    "p_alpha_0 = lambda alpha: scipy.stats.uniform(loc=0, scale=5).pdf(alpha)\n",
    "\n",
    "p_x_0_1 = lambda x_0_1: scipy.stats.uniform(loc=0.0039, scale=0.0039+9.998).pdf(x_0_1)\n",
    "p_fwhm_1 = lambda fwhm: scipy.stats.uniform(loc=np.log(0.01), scale=np.log(10.0)-np.log(0.01)).pdf(np.log(fwhm))"
   ]
  },
  {
   "cell_type": "code",
   "execution_count": null,
   "metadata": {},
   "outputs": [],
   "source": [
    "prior_dict = {\"amplitude_0\":p_amplitude_0, \"amplitude_1\":p_amplitude_1,\n",
    "              \"amplitude_2\":p_amplitude_2, \"alpha_0\": p_alpha_0,\n",
    "              \"x_0_1\": p_x_0_1, \"fwhm_1\":p_fwhm_1}"
   ]
  },
  {
   "cell_type": "code",
   "execution_count": null,
   "metadata": {
    "collapsed": true
   },
   "outputs": [],
   "source": [
    "lpost = PSDPosterior(aps.freq, aps.power, m, priors=prior_dict, m=aps.m)"
   ]
  },
  {
   "cell_type": "code",
   "execution_count": null,
   "metadata": {
    "collapsed": true
   },
   "outputs": [],
   "source": [
    "aps_parest = PSDParEst(aps, max_post=True, fitmethod=\"COBYLA\")"
   ]
  },
  {
   "cell_type": "code",
   "execution_count": null,
   "metadata": {},
   "outputs": [],
   "source": [
    "aps_pars = [0.00001, 1.5, 0.002, 2.0, 1, 0.001]"
   ]
  },
  {
   "cell_type": "code",
   "execution_count": null,
   "metadata": {},
   "outputs": [],
   "source": [
    "aps_res = aps_parest.fit(lpost, aps_pars, neg=True)"
   ]
  },
  {
   "cell_type": "code",
   "execution_count": null,
   "metadata": {},
   "outputs": [],
   "source": [
    "fig, ax = plt.subplots(1, 1, figsize=(6,4))\n",
    "ax.errorbar(aps.freq, aps.power, yerr=aps.power_err, fmt=\"o\",\n",
    "            markersize=3, linewidth=1, color=data_colour, \n",
    "            label=\"Averaged PSD\")\n",
    "ax.plot(aps.freq, aps_res.mfit, lw=2, color=model_colour, zorder=10,\n",
    "        label=\"best-fit model\")\n",
    "ax.set_xlim(aps.freq[0], aps.freq[-1])\n",
    "ax.set_xscale('log')\n",
    "ax.set_yscale(\"log\")\n",
    "ax.set_xlabel(\"Frequency [Hz]\")\n",
    "ax.set_ylabel(r\"Power [$(\\mathrm{rms}/\\mathrm{mean})^2/\\mathrm{Hz}$]\")\n",
    "ax.legend(loc=1, prop={\"size\":11})\n",
    "plt.tight_layout()"
   ]
  },
  {
   "cell_type": "markdown",
   "metadata": {},
   "source": [
    "Okay, finally, I've got a model. Let's do MCMC:"
   ]
  },
  {
   "cell_type": "code",
   "execution_count": null,
   "metadata": {},
   "outputs": [],
   "source": [
    "sample = aps_parest.sample(lpost, aps_res.p_opt, cov=aps_res.cov,\n",
    "                           nwalkers=200, burnin=100, niter=100, threads=4, )"
   ]
  },
  {
   "cell_type": "code",
   "execution_count": null,
   "metadata": {},
   "outputs": [],
   "source": [
    "lc = sampledata.sample_data()"
   ]
  },
  {
   "cell_type": "code",
   "execution_count": null,
   "metadata": {},
   "outputs": [],
   "source": [
    "lc.dt"
   ]
  },
  {
   "cell_type": "markdown",
   "metadata": {},
   "source": [
    "Let's first plot the light curve:"
   ]
  },
  {
   "cell_type": "code",
   "execution_count": null,
   "metadata": {},
   "outputs": [],
   "source": [
    "fig, ax = plt.subplots(1, 1, figsize=(6,4))\n",
    "ax.plot(lc.time-lc.time[0], lc.countrate, color=data_colour)\n",
    "ax.set_xlim(0.0, lc.tseg)\n",
    "ax.set_xlabel(r\"Time in seconds since $t_{\\mathrm{start}}$\")\n",
    "ax.set_ylabel(\"Count rate [counts/s]\")\n",
    "plt.tight_layout()"
   ]
  },
  {
   "cell_type": "markdown",
   "metadata": {},
   "source": [
    "### Power spectrum\n",
    "\n",
    "Let's make a Power spectrum:\n"
   ]
  },
  {
   "cell_type": "code",
   "execution_count": null,
   "metadata": {
    "collapsed": true
   },
   "outputs": [],
   "source": [
    "from stingray import Powerspectrum"
   ]
  },
  {
   "cell_type": "code",
   "execution_count": null,
   "metadata": {
    "collapsed": true
   },
   "outputs": [],
   "source": [
    "ps = Powerspectrum(lc, norm=\"frac\")"
   ]
  },
  {
   "cell_type": "code",
   "execution_count": null,
   "metadata": {},
   "outputs": [],
   "source": [
    "fig, ax = plt.subplots(1, 1, figsize=(6, 4))\n",
    "ax.loglog(ps.freq, ps.power, color=data_colour,\n",
    "          linestyle=\"steps-mid\")\n",
    "ax.set_xscale('log')\n",
    "ax.set_yscale('log')\n",
    "ax.set_xlim(ps.freq[0], ps.freq[-1])\n",
    "ax.set_xlabel(\"Frequency [Hz]\")\n",
    "ax.set_ylabel(r\"Power [$(\\mathrm{rms}/\\mathrm{mean})^2/\\mathrm{Hz}$]\")\n",
    "plt.tight_layout()"
   ]
  },
  {
   "cell_type": "markdown",
   "metadata": {},
   "source": [
    "### Averaged Powerspectrum"
   ]
  },
  {
   "cell_type": "code",
   "execution_count": null,
   "metadata": {
    "collapsed": true
   },
   "outputs": [],
   "source": [
    "from stingray import AveragedPowerspectrum"
   ]
  },
  {
   "cell_type": "code",
   "execution_count": null,
   "metadata": {},
   "outputs": [],
   "source": [
    "lc.tseg"
   ]
  },
  {
   "cell_type": "markdown",
   "metadata": {},
   "source": [
    "The light curve is long enough that I can make about 20 segments of 128s each:"
   ]
  },
  {
   "cell_type": "code",
   "execution_count": null,
   "metadata": {
    "collapsed": true
   },
   "outputs": [],
   "source": [
    "aps = AveragedPowerspectrum(lc, segment_size=2*128.0)"
   ]
  },
  {
   "cell_type": "code",
   "execution_count": null,
   "metadata": {},
   "outputs": [],
   "source": [
    "fig, ax = plt.subplots(1, 1, figsize=(6,4))\n",
    "ax.errorbar(aps.freq, aps.power, yerr=aps.power_err, \n",
    "           linestyle=\"steps-mid\", color=data_colour, fmt=\"o\", \n",
    "            markersize=4, linewidth=1)\n",
    "ax.set_xscale(\"log\")\n",
    "ax.set_yscale('log')\n",
    "ax.set_xlim(aps.freq[0], aps.freq[-1])\n",
    "ax.set_xlabel(\"Frequency [Hz]\")\n",
    "ax.set_ylabel(r\"Power [$(\\mathrm{rms}/\\mathrm{mean})^2/\\mathrm{Hz}$]\")\n",
    "plt.tight_layout()"
   ]
  },
  {
   "cell_type": "markdown",
   "metadata": {},
   "source": [
    "### Let's make a cross spectrum"
   ]
  },
  {
   "cell_type": "code",
   "execution_count": null,
   "metadata": {
    "collapsed": true
   },
   "outputs": [],
   "source": [
    "from stingray import AveragedCrossspectrum"
   ]
  },
  {
   "cell_type": "code",
   "execution_count": null,
   "metadata": {
    "collapsed": true
   },
   "outputs": [],
   "source": [
    "cps = AveragedCrossspectrum()"
   ]
  }
 ],
 "metadata": {
  "kernelspec": {
   "display_name": "Python 3",
   "language": "python",
   "name": "python3"
  },
  "language_info": {
   "codemirror_mode": {
    "name": "ipython",
    "version": 3
   },
   "file_extension": ".py",
   "mimetype": "text/x-python",
   "name": "python",
   "nbconvert_exporter": "python",
   "pygments_lexer": "ipython3",
   "version": "3.5.3"
  }
 },
 "nbformat": 4,
 "nbformat_minor": 2
}
